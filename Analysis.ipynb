{
 "cells": [
  {
   "cell_type": "code",
   "execution_count": 97,
   "metadata": {},
   "outputs": [
    {
     "name": "stdout",
     "output_type": "stream",
     "text": [
      "12.36395709\n",
      "<class 'numpy.float64'>\n"
     ]
    }
   ],
   "source": [
    "import numpy as np\n",
    "import pandas as pd\n",
    "\n",
    "df = pd.read_excel('tmiRNA.xlsx')\n",
    "\n",
    "print(df['hsa-let-7a-1'][152])\n",
    "print(type(df['hsa-let-7a-1'][152]))            "
   ]
  },
  {
   "cell_type": "code",
   "execution_count": 101,
   "metadata": {},
   "outputs": [
    {
     "name": "stderr",
     "output_type": "stream",
     "text": [
      "C:\\Users\\nehue\\AppData\\Local\\Programs\\Python\\Python39\\lib\\site-packages\\sklearn\\cluster\\_bicluster.py:33: RuntimeWarning: divide by zero encountered in true_divide\n",
      "  col_diag = np.asarray(1.0 / np.sqrt(X.sum(axis=0))).squeeze()\n",
      "C:\\Users\\nehue\\AppData\\Local\\Programs\\Python\\Python39\\lib\\site-packages\\sklearn\\cluster\\_bicluster.py:42: RuntimeWarning: invalid value encountered in multiply\n",
      "  an = row_diag[:, np.newaxis] * X * col_diag\n"
     ]
    },
    {
     "ename": "ValueError",
     "evalue": "array must not contain infs or NaNs",
     "output_type": "error",
     "traceback": [
      "\u001b[1;31m---------------------------------------------------------------------------\u001b[0m",
      "\u001b[1;31mValueError\u001b[0m                                Traceback (most recent call last)",
      "\u001b[1;32mc:\\Users\\nehue\\Documents\\programas_de_python\\Freelancing projects\\MiRNA_Analysis\\Analysis.ipynb Cell 3'\u001b[0m in \u001b[0;36m<cell line: 12>\u001b[1;34m()\u001b[0m\n\u001b[0;32m      <a href='vscode-notebook-cell:/c%3A/Users/nehue/Documents/programas_de_python/Freelancing%20projects/MiRNA_Analysis/Analysis.ipynb#ch0000003?line=8'>9</a>\u001b[0m arr \u001b[39m=\u001b[39m np\u001b[39m.\u001b[39mwhere(arr \u001b[39m==\u001b[39m np\u001b[39m.\u001b[39minf, \u001b[39m0\u001b[39m, arr)\n\u001b[0;32m     <a href='vscode-notebook-cell:/c%3A/Users/nehue/Documents/programas_de_python/Freelancing%20projects/MiRNA_Analysis/Analysis.ipynb#ch0000003?line=10'>11</a>\u001b[0m model \u001b[39m=\u001b[39m cluster\u001b[39m.\u001b[39mSpectralCoclustering(n_clusters\u001b[39m=\u001b[39m\u001b[39m2\u001b[39m)\n\u001b[1;32m---> <a href='vscode-notebook-cell:/c%3A/Users/nehue/Documents/programas_de_python/Freelancing%20projects/MiRNA_Analysis/Analysis.ipynb#ch0000003?line=11'>12</a>\u001b[0m model\u001b[39m.\u001b[39;49mfit(arr)\n\u001b[0;32m     <a href='vscode-notebook-cell:/c%3A/Users/nehue/Documents/programas_de_python/Freelancing%20projects/MiRNA_Analysis/Analysis.ipynb#ch0000003?line=12'>13</a>\u001b[0m fit_arr \u001b[39m=\u001b[39m arr[np\u001b[39m.\u001b[39margsort(model\u001b[39m.\u001b[39mrow_labels_)]\n\u001b[0;32m     <a href='vscode-notebook-cell:/c%3A/Users/nehue/Documents/programas_de_python/Freelancing%20projects/MiRNA_Analysis/Analysis.ipynb#ch0000003?line=13'>14</a>\u001b[0m fit_arr \u001b[39m=\u001b[39m fit_arr[:, np\u001b[39m.\u001b[39margsort(model\u001b[39m.\u001b[39mcolumn_labels_)]\n",
      "File \u001b[1;32m~\\AppData\\Local\\Programs\\Python\\Python39\\lib\\site-packages\\sklearn\\cluster\\_bicluster.py:132\u001b[0m, in \u001b[0;36mBaseSpectral.fit\u001b[1;34m(self, X, y)\u001b[0m\n\u001b[0;32m    <a href='file:///c%3A/Users/nehue/AppData/Local/Programs/Python/Python39/lib/site-packages/sklearn/cluster/_bicluster.py?line=129'>130</a>\u001b[0m X \u001b[39m=\u001b[39m \u001b[39mself\u001b[39m\u001b[39m.\u001b[39m_validate_data(X, accept_sparse\u001b[39m=\u001b[39m\u001b[39m\"\u001b[39m\u001b[39mcsr\u001b[39m\u001b[39m\"\u001b[39m, dtype\u001b[39m=\u001b[39mnp\u001b[39m.\u001b[39mfloat64)\n\u001b[0;32m    <a href='file:///c%3A/Users/nehue/AppData/Local/Programs/Python/Python39/lib/site-packages/sklearn/cluster/_bicluster.py?line=130'>131</a>\u001b[0m \u001b[39mself\u001b[39m\u001b[39m.\u001b[39m_check_parameters()\n\u001b[1;32m--> <a href='file:///c%3A/Users/nehue/AppData/Local/Programs/Python/Python39/lib/site-packages/sklearn/cluster/_bicluster.py?line=131'>132</a>\u001b[0m \u001b[39mself\u001b[39;49m\u001b[39m.\u001b[39;49m_fit(X)\n\u001b[0;32m    <a href='file:///c%3A/Users/nehue/AppData/Local/Programs/Python/Python39/lib/site-packages/sklearn/cluster/_bicluster.py?line=132'>133</a>\u001b[0m \u001b[39mreturn\u001b[39;00m \u001b[39mself\u001b[39m\n",
      "File \u001b[1;32m~\\AppData\\Local\\Programs\\Python\\Python39\\lib\\site-packages\\sklearn\\cluster\\_bicluster.py:334\u001b[0m, in \u001b[0;36mSpectralCoclustering._fit\u001b[1;34m(self, X)\u001b[0m\n\u001b[0;32m    <a href='file:///c%3A/Users/nehue/AppData/Local/Programs/Python/Python39/lib/site-packages/sklearn/cluster/_bicluster.py?line=331'>332</a>\u001b[0m normalized_data, row_diag, col_diag \u001b[39m=\u001b[39m _scale_normalize(X)\n\u001b[0;32m    <a href='file:///c%3A/Users/nehue/AppData/Local/Programs/Python/Python39/lib/site-packages/sklearn/cluster/_bicluster.py?line=332'>333</a>\u001b[0m n_sv \u001b[39m=\u001b[39m \u001b[39m1\u001b[39m \u001b[39m+\u001b[39m \u001b[39mint\u001b[39m(np\u001b[39m.\u001b[39mceil(np\u001b[39m.\u001b[39mlog2(\u001b[39mself\u001b[39m\u001b[39m.\u001b[39mn_clusters)))\n\u001b[1;32m--> <a href='file:///c%3A/Users/nehue/AppData/Local/Programs/Python/Python39/lib/site-packages/sklearn/cluster/_bicluster.py?line=333'>334</a>\u001b[0m u, v \u001b[39m=\u001b[39m \u001b[39mself\u001b[39;49m\u001b[39m.\u001b[39;49m_svd(normalized_data, n_sv, n_discard\u001b[39m=\u001b[39;49m\u001b[39m1\u001b[39;49m)\n\u001b[0;32m    <a href='file:///c%3A/Users/nehue/AppData/Local/Programs/Python/Python39/lib/site-packages/sklearn/cluster/_bicluster.py?line=334'>335</a>\u001b[0m z \u001b[39m=\u001b[39m np\u001b[39m.\u001b[39mvstack((row_diag[:, np\u001b[39m.\u001b[39mnewaxis] \u001b[39m*\u001b[39m u, col_diag[:, np\u001b[39m.\u001b[39mnewaxis] \u001b[39m*\u001b[39m v))\n\u001b[0;32m    <a href='file:///c%3A/Users/nehue/AppData/Local/Programs/Python/Python39/lib/site-packages/sklearn/cluster/_bicluster.py?line=336'>337</a>\u001b[0m _, labels \u001b[39m=\u001b[39m \u001b[39mself\u001b[39m\u001b[39m.\u001b[39m_k_means(z, \u001b[39mself\u001b[39m\u001b[39m.\u001b[39mn_clusters)\n",
      "File \u001b[1;32m~\\AppData\\Local\\Programs\\Python\\Python39\\lib\\site-packages\\sklearn\\cluster\\_bicluster.py:143\u001b[0m, in \u001b[0;36mBaseSpectral._svd\u001b[1;34m(self, array, n_components, n_discard)\u001b[0m\n\u001b[0;32m    <a href='file:///c%3A/Users/nehue/AppData/Local/Programs/Python/Python39/lib/site-packages/sklearn/cluster/_bicluster.py?line=140'>141</a>\u001b[0m     \u001b[39mif\u001b[39;00m \u001b[39mself\u001b[39m\u001b[39m.\u001b[39mn_svd_vecs \u001b[39mis\u001b[39;00m \u001b[39mnot\u001b[39;00m \u001b[39mNone\u001b[39;00m:\n\u001b[0;32m    <a href='file:///c%3A/Users/nehue/AppData/Local/Programs/Python/Python39/lib/site-packages/sklearn/cluster/_bicluster.py?line=141'>142</a>\u001b[0m         kwargs[\u001b[39m\"\u001b[39m\u001b[39mn_oversamples\u001b[39m\u001b[39m\"\u001b[39m] \u001b[39m=\u001b[39m \u001b[39mself\u001b[39m\u001b[39m.\u001b[39mn_svd_vecs\n\u001b[1;32m--> <a href='file:///c%3A/Users/nehue/AppData/Local/Programs/Python/Python39/lib/site-packages/sklearn/cluster/_bicluster.py?line=142'>143</a>\u001b[0m     u, _, vt \u001b[39m=\u001b[39m randomized_svd(\n\u001b[0;32m    <a href='file:///c%3A/Users/nehue/AppData/Local/Programs/Python/Python39/lib/site-packages/sklearn/cluster/_bicluster.py?line=143'>144</a>\u001b[0m         array, n_components, random_state\u001b[39m=\u001b[39m\u001b[39mself\u001b[39m\u001b[39m.\u001b[39mrandom_state, \u001b[39m*\u001b[39m\u001b[39m*\u001b[39mkwargs\n\u001b[0;32m    <a href='file:///c%3A/Users/nehue/AppData/Local/Programs/Python/Python39/lib/site-packages/sklearn/cluster/_bicluster.py?line=144'>145</a>\u001b[0m     )\n\u001b[0;32m    <a href='file:///c%3A/Users/nehue/AppData/Local/Programs/Python/Python39/lib/site-packages/sklearn/cluster/_bicluster.py?line=146'>147</a>\u001b[0m \u001b[39melif\u001b[39;00m \u001b[39mself\u001b[39m\u001b[39m.\u001b[39msvd_method \u001b[39m==\u001b[39m \u001b[39m\"\u001b[39m\u001b[39marpack\u001b[39m\u001b[39m\"\u001b[39m:\n\u001b[0;32m    <a href='file:///c%3A/Users/nehue/AppData/Local/Programs/Python/Python39/lib/site-packages/sklearn/cluster/_bicluster.py?line=147'>148</a>\u001b[0m     u, _, vt \u001b[39m=\u001b[39m svds(array, k\u001b[39m=\u001b[39mn_components, ncv\u001b[39m=\u001b[39m\u001b[39mself\u001b[39m\u001b[39m.\u001b[39mn_svd_vecs)\n",
      "File \u001b[1;32m~\\AppData\\Local\\Programs\\Python\\Python39\\lib\\site-packages\\sklearn\\utils\\extmath.py:395\u001b[0m, in \u001b[0;36mrandomized_svd\u001b[1;34m(M, n_components, n_oversamples, n_iter, power_iteration_normalizer, transpose, flip_sign, random_state)\u001b[0m\n\u001b[0;32m    <a href='file:///c%3A/Users/nehue/AppData/Local/Programs/Python/Python39/lib/site-packages/sklearn/utils/extmath.py?line=390'>391</a>\u001b[0m \u001b[39mif\u001b[39;00m transpose:\n\u001b[0;32m    <a href='file:///c%3A/Users/nehue/AppData/Local/Programs/Python/Python39/lib/site-packages/sklearn/utils/extmath.py?line=391'>392</a>\u001b[0m     \u001b[39m# this implementation is a bit faster with smaller shape[1]\u001b[39;00m\n\u001b[0;32m    <a href='file:///c%3A/Users/nehue/AppData/Local/Programs/Python/Python39/lib/site-packages/sklearn/utils/extmath.py?line=392'>393</a>\u001b[0m     M \u001b[39m=\u001b[39m M\u001b[39m.\u001b[39mT\n\u001b[1;32m--> <a href='file:///c%3A/Users/nehue/AppData/Local/Programs/Python/Python39/lib/site-packages/sklearn/utils/extmath.py?line=394'>395</a>\u001b[0m Q \u001b[39m=\u001b[39m randomized_range_finder(\n\u001b[0;32m    <a href='file:///c%3A/Users/nehue/AppData/Local/Programs/Python/Python39/lib/site-packages/sklearn/utils/extmath.py?line=395'>396</a>\u001b[0m     M,\n\u001b[0;32m    <a href='file:///c%3A/Users/nehue/AppData/Local/Programs/Python/Python39/lib/site-packages/sklearn/utils/extmath.py?line=396'>397</a>\u001b[0m     size\u001b[39m=\u001b[39;49mn_random,\n\u001b[0;32m    <a href='file:///c%3A/Users/nehue/AppData/Local/Programs/Python/Python39/lib/site-packages/sklearn/utils/extmath.py?line=397'>398</a>\u001b[0m     n_iter\u001b[39m=\u001b[39;49mn_iter,\n\u001b[0;32m    <a href='file:///c%3A/Users/nehue/AppData/Local/Programs/Python/Python39/lib/site-packages/sklearn/utils/extmath.py?line=398'>399</a>\u001b[0m     power_iteration_normalizer\u001b[39m=\u001b[39;49mpower_iteration_normalizer,\n\u001b[0;32m    <a href='file:///c%3A/Users/nehue/AppData/Local/Programs/Python/Python39/lib/site-packages/sklearn/utils/extmath.py?line=399'>400</a>\u001b[0m     random_state\u001b[39m=\u001b[39;49mrandom_state,\n\u001b[0;32m    <a href='file:///c%3A/Users/nehue/AppData/Local/Programs/Python/Python39/lib/site-packages/sklearn/utils/extmath.py?line=400'>401</a>\u001b[0m )\n\u001b[0;32m    <a href='file:///c%3A/Users/nehue/AppData/Local/Programs/Python/Python39/lib/site-packages/sklearn/utils/extmath.py?line=402'>403</a>\u001b[0m \u001b[39m# project M to the (k + p) dimensional space using the basis vectors\u001b[39;00m\n\u001b[0;32m    <a href='file:///c%3A/Users/nehue/AppData/Local/Programs/Python/Python39/lib/site-packages/sklearn/utils/extmath.py?line=403'>404</a>\u001b[0m B \u001b[39m=\u001b[39m safe_sparse_dot(Q\u001b[39m.\u001b[39mT, M)\n",
      "File \u001b[1;32m~\\AppData\\Local\\Programs\\Python\\Python39\\lib\\site-packages\\sklearn\\utils\\extmath.py:237\u001b[0m, in \u001b[0;36mrandomized_range_finder\u001b[1;34m(A, size, n_iter, power_iteration_normalizer, random_state)\u001b[0m\n\u001b[0;32m    <a href='file:///c%3A/Users/nehue/AppData/Local/Programs/Python/Python39/lib/site-packages/sklearn/utils/extmath.py?line=234'>235</a>\u001b[0m     Q \u001b[39m=\u001b[39m safe_sparse_dot(A\u001b[39m.\u001b[39mT, Q)\n\u001b[0;32m    <a href='file:///c%3A/Users/nehue/AppData/Local/Programs/Python/Python39/lib/site-packages/sklearn/utils/extmath.py?line=235'>236</a>\u001b[0m \u001b[39melif\u001b[39;00m power_iteration_normalizer \u001b[39m==\u001b[39m \u001b[39m\"\u001b[39m\u001b[39mLU\u001b[39m\u001b[39m\"\u001b[39m:\n\u001b[1;32m--> <a href='file:///c%3A/Users/nehue/AppData/Local/Programs/Python/Python39/lib/site-packages/sklearn/utils/extmath.py?line=236'>237</a>\u001b[0m     Q, _ \u001b[39m=\u001b[39m linalg\u001b[39m.\u001b[39;49mlu(safe_sparse_dot(A, Q), permute_l\u001b[39m=\u001b[39;49m\u001b[39mTrue\u001b[39;49;00m)\n\u001b[0;32m    <a href='file:///c%3A/Users/nehue/AppData/Local/Programs/Python/Python39/lib/site-packages/sklearn/utils/extmath.py?line=237'>238</a>\u001b[0m     Q, _ \u001b[39m=\u001b[39m linalg\u001b[39m.\u001b[39mlu(safe_sparse_dot(A\u001b[39m.\u001b[39mT, Q), permute_l\u001b[39m=\u001b[39m\u001b[39mTrue\u001b[39;00m)\n\u001b[0;32m    <a href='file:///c%3A/Users/nehue/AppData/Local/Programs/Python/Python39/lib/site-packages/sklearn/utils/extmath.py?line=238'>239</a>\u001b[0m \u001b[39melif\u001b[39;00m power_iteration_normalizer \u001b[39m==\u001b[39m \u001b[39m\"\u001b[39m\u001b[39mQR\u001b[39m\u001b[39m\"\u001b[39m:\n",
      "File \u001b[1;32m~\\AppData\\Local\\Programs\\Python\\Python39\\lib\\site-packages\\scipy\\linalg\\decomp_lu.py:209\u001b[0m, in \u001b[0;36mlu\u001b[1;34m(a, permute_l, overwrite_a, check_finite)\u001b[0m\n\u001b[0;32m    <a href='file:///c%3A/Users/nehue/AppData/Local/Programs/Python/Python39/lib/site-packages/scipy/linalg/decomp_lu.py?line=151'>152</a>\u001b[0m \u001b[39m\"\"\"\u001b[39;00m\n\u001b[0;32m    <a href='file:///c%3A/Users/nehue/AppData/Local/Programs/Python/Python39/lib/site-packages/scipy/linalg/decomp_lu.py?line=152'>153</a>\u001b[0m \u001b[39mCompute pivoted LU decomposition of a matrix.\u001b[39;00m\n\u001b[0;32m    <a href='file:///c%3A/Users/nehue/AppData/Local/Programs/Python/Python39/lib/site-packages/scipy/linalg/decomp_lu.py?line=153'>154</a>\u001b[0m \n\u001b[1;32m   (...)\u001b[0m\n\u001b[0;32m    <a href='file:///c%3A/Users/nehue/AppData/Local/Programs/Python/Python39/lib/site-packages/scipy/linalg/decomp_lu.py?line=205'>206</a>\u001b[0m \n\u001b[0;32m    <a href='file:///c%3A/Users/nehue/AppData/Local/Programs/Python/Python39/lib/site-packages/scipy/linalg/decomp_lu.py?line=206'>207</a>\u001b[0m \u001b[39m\"\"\"\u001b[39;00m\n\u001b[0;32m    <a href='file:///c%3A/Users/nehue/AppData/Local/Programs/Python/Python39/lib/site-packages/scipy/linalg/decomp_lu.py?line=207'>208</a>\u001b[0m \u001b[39mif\u001b[39;00m check_finite:\n\u001b[1;32m--> <a href='file:///c%3A/Users/nehue/AppData/Local/Programs/Python/Python39/lib/site-packages/scipy/linalg/decomp_lu.py?line=208'>209</a>\u001b[0m     a1 \u001b[39m=\u001b[39m asarray_chkfinite(a)\n\u001b[0;32m    <a href='file:///c%3A/Users/nehue/AppData/Local/Programs/Python/Python39/lib/site-packages/scipy/linalg/decomp_lu.py?line=209'>210</a>\u001b[0m \u001b[39melse\u001b[39;00m:\n\u001b[0;32m    <a href='file:///c%3A/Users/nehue/AppData/Local/Programs/Python/Python39/lib/site-packages/scipy/linalg/decomp_lu.py?line=210'>211</a>\u001b[0m     a1 \u001b[39m=\u001b[39m asarray(a)\n",
      "File \u001b[1;32m~\\AppData\\Local\\Programs\\Python\\Python39\\lib\\site-packages\\numpy\\lib\\function_base.py:488\u001b[0m, in \u001b[0;36masarray_chkfinite\u001b[1;34m(a, dtype, order)\u001b[0m\n\u001b[0;32m    <a href='file:///c%3A/Users/nehue/AppData/Local/Programs/Python/Python39/lib/site-packages/numpy/lib/function_base.py?line=485'>486</a>\u001b[0m a \u001b[39m=\u001b[39m asarray(a, dtype\u001b[39m=\u001b[39mdtype, order\u001b[39m=\u001b[39morder)\n\u001b[0;32m    <a href='file:///c%3A/Users/nehue/AppData/Local/Programs/Python/Python39/lib/site-packages/numpy/lib/function_base.py?line=486'>487</a>\u001b[0m \u001b[39mif\u001b[39;00m a\u001b[39m.\u001b[39mdtype\u001b[39m.\u001b[39mchar \u001b[39min\u001b[39;00m typecodes[\u001b[39m'\u001b[39m\u001b[39mAllFloat\u001b[39m\u001b[39m'\u001b[39m] \u001b[39mand\u001b[39;00m \u001b[39mnot\u001b[39;00m np\u001b[39m.\u001b[39misfinite(a)\u001b[39m.\u001b[39mall():\n\u001b[1;32m--> <a href='file:///c%3A/Users/nehue/AppData/Local/Programs/Python/Python39/lib/site-packages/numpy/lib/function_base.py?line=487'>488</a>\u001b[0m     \u001b[39mraise\u001b[39;00m \u001b[39mValueError\u001b[39;00m(\n\u001b[0;32m    <a href='file:///c%3A/Users/nehue/AppData/Local/Programs/Python/Python39/lib/site-packages/numpy/lib/function_base.py?line=488'>489</a>\u001b[0m         \u001b[39m\"\u001b[39m\u001b[39marray must not contain infs or NaNs\u001b[39m\u001b[39m\"\u001b[39m)\n\u001b[0;32m    <a href='file:///c%3A/Users/nehue/AppData/Local/Programs/Python/Python39/lib/site-packages/numpy/lib/function_base.py?line=489'>490</a>\u001b[0m \u001b[39mreturn\u001b[39;00m a\n",
      "\u001b[1;31mValueError\u001b[0m: array must not contain infs or NaNs"
     ]
    }
   ],
   "source": [
    "from sklearn import cluster\n",
    "import matplotlib.pyplot as plt\n",
    "from numpy import inf \n",
    "\n",
    "df = df.fillna(value= 0.0)\n",
    "\n",
    "arr = np.array(df)\n",
    "arr = np.where(arr == np.inf, 0, arr)\n",
    "\n",
    "model = cluster.SpectralCoclustering(n_clusters=2)\n",
    "model.fit(arr)\n",
    "fit_arr = arr[np.argsort(model.row_labels_)]\n",
    "fit_arr = fit_arr[:, np.argsort(model.column_labels_)]\n",
    "\n",
    "plt.matshow(fit_arr, cmap=plt.cm.Reds)"
   ]
  },
  {
   "cell_type": "code",
   "execution_count": 15,
   "metadata": {},
   "outputs": [
    {
     "name": "stdout",
     "output_type": "stream",
     "text": [
      "[[0.99635016 0.34587271 0.21016438 0.26782498 0.3772423  0.53634903\n",
      "  0.16888705 0.92853276]\n",
      " [0.09785839 0.29994694 0.01251154 0.00699568 0.55816695 0.60631439\n",
      "  0.98529282 0.7639156 ]\n",
      " [0.27917037 0.22519901 0.89730005 0.47352865 0.13208511 0.20094332\n",
      "  0.27159094 0.04565833]\n",
      " [0.86748092 0.53210903 0.01534395 0.53453036 0.82261564 0.59623463\n",
      "  0.57820352 0.13490261]\n",
      " [0.37730665 0.15791689 0.35828227 0.79436878 0.37100869 0.46473212\n",
      "  0.99460236 0.54155601]]\n"
     ]
    },
    {
     "data": {
      "text/plain": [
       "<matplotlib.image.AxesImage at 0x2406a389ee0>"
      ]
     },
     "execution_count": 15,
     "metadata": {},
     "output_type": "execute_result"
    },
    {
     "data": {
      "image/png": "[encoded data removed]",
      "text/plain": [
       "<Figure size 460.8x288 with 1 Axes>"
      ]
     },
     "metadata": {
      "needs_background": "light"
     },
     "output_type": "display_data"
    }
   ],
   "source": [
    "# Test on the co-clustering functions:\n",
    "\n",
    "rand_arr = np.random.rand(5,8)\n",
    "\n",
    "print(rand_arr)\n",
    "\n",
    "model = cluster.SpectralCoclustering(n_clusters=2)\n",
    "model.fit(rand_arr)\n",
    "fit_arr = rand_arr[np.argsort(model.row_labels_)]\n",
    "fit_arr = fit_arr[:, np.argsort(model.column_labels_)]\n",
    "\n",
    "plt.matshow(fit_arr, cmap=plt.cm.Reds)"
   ]
  }
 ],
 "metadata": {
  "interpreter": {
   "hash": "3a4565eb6215a326995d9cfd00f1782ebb9ab334d122fb684360bfee2e0fdc62"
  },
  "kernelspec": {
   "display_name": "Python 3.9.5 64-bit",
   "language": "python",
   "name": "python3"
  },
  "language_info": {
   "codemirror_mode": {
    "name": "ipython",
    "version": 3
   },
   "file_extension": ".py",
   "mimetype": "text/x-python",
   "name": "python",
   "nbconvert_exporter": "python",
   "pygments_lexer": "ipython3",
   "version": "3.9.5"
  },
  "orig_nbformat": 4
 },
 "nbformat": 4,
 "nbformat_minor": 2
}
